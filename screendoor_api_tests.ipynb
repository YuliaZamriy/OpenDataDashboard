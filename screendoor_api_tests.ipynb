{
 "cells": [
  {
   "cell_type": "code",
   "execution_count": 1,
   "metadata": {},
   "outputs": [],
   "source": [
    "import json\n",
    "import requests\n",
    "from pandas.io.json import json_normalize\n",
    "import datetime\n",
    "from datetime import datetime, timedelta, time, date\n",
    "import pandas as pd\n",
    "import calendar\n",
    "import numpy as np"
   ]
  },
  {
   "cell_type": "code",
   "execution_count": 2,
   "metadata": {},
   "outputs": [],
   "source": [
    "from credentials import screendoor_key, screendoor_project_id"
   ]
  },
  {
   "cell_type": "code",
   "execution_count": 30,
   "metadata": {},
   "outputs": [],
   "source": [
    "last_year = datetime.now().year - 1\n",
    "this_month = datetime.now().month\n",
    "last_12_months = datetime(last_year, this_month, 1)\n",
    "last_12_months = last_12_months.strftime('%Y-%m-%d')"
   ]
  },
  {
   "cell_type": "code",
   "execution_count": 25,
   "metadata": {},
   "outputs": [],
   "source": [
    "def call_screendoor_api():\n",
    "    \n",
    "    records = '10'\n",
    "    \n",
    "    #read in the open data customer support requests using the screendoor api\n",
    "    api_request = requests.get('https://screendoor.dobt.co/api/projects/'+screendoor_project_id+'/responses?per_page='+records+'&v=0&api_key='+screendoor_key)\n",
    "    screendoor_raw_data = api_request.json()\n",
    "    \n",
    "    #create a dataframe\n",
    "    screendoor_df = pd.DataFrame(screendoor_raw_data)\n",
    "    \n",
    "    #extract the nested dictionary 'responses'\n",
    "    normalize_responses = json_normalize(screendoor_df['responses'])\n",
    "    \n",
    "    #join both dataframs \n",
    "    concat_df = pd.concat([screendoor_df,normalize_responses], axis=1,join_axes=[screendoor_df.index])\n",
    "    \n",
    "    #reformat data types\n",
    "    concat_df.submitted_at = pd.to_datetime(concat_df.submitted_at,format='%Y-%m-%dT%H:%M:%S.%fZ')\n",
    "    concat_df.updated_at = pd.to_datetime(concat_df.updated_at,format='%Y-%m-%dT%H:%M:%S.%fZ')\n",
    "    \n",
    "    #key fields in the underlying dictionary do not make sense. rename some of them\n",
    "    concat_df['request_type'] = concat_df['fygvab39']\n",
    "    \n",
    "    #create new dataframe with only columns needed \n",
    "    screendoor_df = concat_df[['id','submitted_at','updated_at','request_type','status']].copy()\n",
    "\n",
    "    #create new 'request_type_grouped' column\n",
    "    status_conditions = [\n",
    "        (screendoor_df['request_type']=='Request a dataset'),\n",
    "        (screendoor_df['request_type']=='General inquiry'),\n",
    "        (screendoor_df['request_type']=='Ask a question about a dataset'),\n",
    "        (screendoor_df['request_type']=='Report an error in the data')\n",
    "    ]\n",
    "    status_choices = ['Request a Dataset', 'General Inquiry', 'Data Question', 'Report Error']\n",
    "    screendoor_df['request_type_grouped'] = np.select(status_conditions, status_choices, default='Other')\n",
    "    \n",
    "    #calculate amount of time between submission and last updated  \n",
    "    screendoor_df['update_time'] = (screendoor_df.updated_at-screendoor_df.submitted_at) / np.timedelta64(1,'D')\n",
    "\n",
    "\n",
    "    return screendoor_df"
   ]
  },
  {
   "cell_type": "code",
   "execution_count": 26,
   "metadata": {},
   "outputs": [
    {
     "data": {
      "text/plain": [
       "(10, 7)"
      ]
     },
     "execution_count": 26,
     "metadata": {},
     "output_type": "execute_result"
    }
   ],
   "source": [
    "sd = call_screendoor_api()\n",
    "sd.shape"
   ]
  },
  {
   "cell_type": "code",
   "execution_count": 27,
   "metadata": {},
   "outputs": [
    {
     "data": {
      "text/html": [
       "<div>\n",
       "<style scoped>\n",
       "    .dataframe tbody tr th:only-of-type {\n",
       "        vertical-align: middle;\n",
       "    }\n",
       "\n",
       "    .dataframe tbody tr th {\n",
       "        vertical-align: top;\n",
       "    }\n",
       "\n",
       "    .dataframe thead th {\n",
       "        text-align: right;\n",
       "    }\n",
       "</style>\n",
       "<table border=\"1\" class=\"dataframe\">\n",
       "  <thead>\n",
       "    <tr style=\"text-align: right;\">\n",
       "      <th></th>\n",
       "      <th>id</th>\n",
       "      <th>submitted_at</th>\n",
       "      <th>updated_at</th>\n",
       "      <th>request_type</th>\n",
       "      <th>status</th>\n",
       "      <th>request_type_grouped</th>\n",
       "      <th>update_time</th>\n",
       "    </tr>\n",
       "  </thead>\n",
       "  <tbody>\n",
       "    <tr>\n",
       "      <th>0</th>\n",
       "      <td>603827</td>\n",
       "      <td>2017-03-02 22:42:31.395</td>\n",
       "      <td>2018-10-15 12:18:35.211</td>\n",
       "      <td>Request a dataset</td>\n",
       "      <td>Closed</td>\n",
       "      <td>Request a Dataset</td>\n",
       "      <td>591.566711</td>\n",
       "    </tr>\n",
       "    <tr>\n",
       "      <th>1</th>\n",
       "      <td>606421</td>\n",
       "      <td>2017-03-03 16:01:45.523</td>\n",
       "      <td>2017-03-14 22:32:05.123</td>\n",
       "      <td>Provide an additional resource for this website</td>\n",
       "      <td>Closed</td>\n",
       "      <td>Other</td>\n",
       "      <td>11.271060</td>\n",
       "    </tr>\n",
       "    <tr>\n",
       "      <th>2</th>\n",
       "      <td>607093</td>\n",
       "      <td>2017-03-03 19:09:57.162</td>\n",
       "      <td>2017-07-24 20:54:37.076</td>\n",
       "      <td>Ask a question about a dataset</td>\n",
       "      <td>Closed</td>\n",
       "      <td>Data Question</td>\n",
       "      <td>143.072684</td>\n",
       "    </tr>\n",
       "    <tr>\n",
       "      <th>3</th>\n",
       "      <td>607458</td>\n",
       "      <td>2017-03-03 20:47:39.628</td>\n",
       "      <td>2017-03-03 22:10:16.727</td>\n",
       "      <td>General inquiry</td>\n",
       "      <td>Closed</td>\n",
       "      <td>General Inquiry</td>\n",
       "      <td>0.057374</td>\n",
       "    </tr>\n",
       "    <tr>\n",
       "      <th>4</th>\n",
       "      <td>607485</td>\n",
       "      <td>2017-03-03 21:14:16.189</td>\n",
       "      <td>2018-08-30 14:56:11.139</td>\n",
       "      <td>Request a dataset</td>\n",
       "      <td>Closed</td>\n",
       "      <td>Request a Dataset</td>\n",
       "      <td>544.737442</td>\n",
       "    </tr>\n",
       "    <tr>\n",
       "      <th>5</th>\n",
       "      <td>608450</td>\n",
       "      <td>2017-03-04 02:20:30.545</td>\n",
       "      <td>2017-03-08 16:38:24.724</td>\n",
       "      <td>General inquiry</td>\n",
       "      <td>Closed</td>\n",
       "      <td>General Inquiry</td>\n",
       "      <td>4.595766</td>\n",
       "    </tr>\n",
       "    <tr>\n",
       "      <th>6</th>\n",
       "      <td>609105</td>\n",
       "      <td>2017-03-04 09:23:48.450</td>\n",
       "      <td>2017-03-14 21:48:19.356</td>\n",
       "      <td>General inquiry</td>\n",
       "      <td>Closed</td>\n",
       "      <td>General Inquiry</td>\n",
       "      <td>10.517024</td>\n",
       "    </tr>\n",
       "    <tr>\n",
       "      <th>7</th>\n",
       "      <td>609780</td>\n",
       "      <td>2017-03-04 18:44:53.740</td>\n",
       "      <td>2017-07-24 20:54:53.621</td>\n",
       "      <td>Report an error in the data</td>\n",
       "      <td>Closed</td>\n",
       "      <td>Report Error</td>\n",
       "      <td>142.090276</td>\n",
       "    </tr>\n",
       "    <tr>\n",
       "      <th>8</th>\n",
       "      <td>609898</td>\n",
       "      <td>2017-03-04 20:13:14.941</td>\n",
       "      <td>2017-03-08 22:16:45.499</td>\n",
       "      <td>Report an error in the data</td>\n",
       "      <td>Closed</td>\n",
       "      <td>Report Error</td>\n",
       "      <td>4.085770</td>\n",
       "    </tr>\n",
       "    <tr>\n",
       "      <th>9</th>\n",
       "      <td>610058</td>\n",
       "      <td>2017-03-04 22:25:18.730</td>\n",
       "      <td>2017-03-08 22:15:55.750</td>\n",
       "      <td>Report an error in the data</td>\n",
       "      <td>Closed</td>\n",
       "      <td>Report Error</td>\n",
       "      <td>3.993484</td>\n",
       "    </tr>\n",
       "  </tbody>\n",
       "</table>\n",
       "</div>"
      ],
      "text/plain": [
       "       id            submitted_at              updated_at  \\\n",
       "0  603827 2017-03-02 22:42:31.395 2018-10-15 12:18:35.211   \n",
       "1  606421 2017-03-03 16:01:45.523 2017-03-14 22:32:05.123   \n",
       "2  607093 2017-03-03 19:09:57.162 2017-07-24 20:54:37.076   \n",
       "3  607458 2017-03-03 20:47:39.628 2017-03-03 22:10:16.727   \n",
       "4  607485 2017-03-03 21:14:16.189 2018-08-30 14:56:11.139   \n",
       "5  608450 2017-03-04 02:20:30.545 2017-03-08 16:38:24.724   \n",
       "6  609105 2017-03-04 09:23:48.450 2017-03-14 21:48:19.356   \n",
       "7  609780 2017-03-04 18:44:53.740 2017-07-24 20:54:53.621   \n",
       "8  609898 2017-03-04 20:13:14.941 2017-03-08 22:16:45.499   \n",
       "9  610058 2017-03-04 22:25:18.730 2017-03-08 22:15:55.750   \n",
       "\n",
       "                                      request_type  status  \\\n",
       "0                                Request a dataset  Closed   \n",
       "1  Provide an additional resource for this website  Closed   \n",
       "2                   Ask a question about a dataset  Closed   \n",
       "3                                  General inquiry  Closed   \n",
       "4                                Request a dataset  Closed   \n",
       "5                                  General inquiry  Closed   \n",
       "6                                  General inquiry  Closed   \n",
       "7                      Report an error in the data  Closed   \n",
       "8                      Report an error in the data  Closed   \n",
       "9                      Report an error in the data  Closed   \n",
       "\n",
       "  request_type_grouped  update_time  \n",
       "0    Request a Dataset   591.566711  \n",
       "1                Other    11.271060  \n",
       "2        Data Question   143.072684  \n",
       "3      General Inquiry     0.057374  \n",
       "4    Request a Dataset   544.737442  \n",
       "5      General Inquiry     4.595766  \n",
       "6      General Inquiry    10.517024  \n",
       "7         Report Error   142.090276  \n",
       "8         Report Error     4.085770  \n",
       "9         Report Error     3.993484  "
      ]
     },
     "execution_count": 27,
     "metadata": {},
     "output_type": "execute_result"
    }
   ],
   "source": [
    "sd"
   ]
  },
  {
   "cell_type": "code",
   "execution_count": 28,
   "metadata": {},
   "outputs": [],
   "source": [
    "def group_requests_by_type_and_status(screendoor_df):\n",
    "    # count requests by type and status (top groups)\n",
    "    requests_by_status_grouped = screendoor_df[screendoor_df['submitted_at'] >= last_12_months]\n",
    "    requests_by_status_grouped = requests_by_status_grouped.groupby(['request_type_grouped', 'status'])[['id']].count().reset_index()\n",
    "    return requests_by_status_grouped"
   ]
  },
  {
   "cell_type": "code",
   "execution_count": 32,
   "metadata": {},
   "outputs": [
    {
     "data": {
      "text/plain": [
       "(0, 3)"
      ]
     },
     "execution_count": 32,
     "metadata": {},
     "output_type": "execute_result"
    }
   ],
   "source": [
    "sd_grp = group_requests_by_type_and_status(sd)\n",
    "sd_grp.shape"
   ]
  },
  {
   "cell_type": "code",
   "execution_count": null,
   "metadata": {},
   "outputs": [],
   "source": []
  }
 ],
 "metadata": {
  "kernelspec": {
   "display_name": "Python 3",
   "language": "python",
   "name": "python3"
  },
  "language_info": {
   "codemirror_mode": {
    "name": "ipython",
    "version": 3
   },
   "file_extension": ".py",
   "mimetype": "text/x-python",
   "name": "python",
   "nbconvert_exporter": "python",
   "pygments_lexer": "ipython3",
   "version": "3.6.5"
  }
 },
 "nbformat": 4,
 "nbformat_minor": 2
}
